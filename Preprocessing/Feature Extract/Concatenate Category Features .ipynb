{
 "cells": [
  {
   "cell_type": "code",
   "execution_count": 1,
   "id": "a038415f-9fe4-4e2d-b2c6-7048b14130d7",
   "metadata": {},
   "outputs": [],
   "source": [
    "import numpy as np"
   ]
  },
  {
   "cell_type": "markdown",
   "id": "456740fc-e32b-4e68-8f8b-ec8e1847ff88",
   "metadata": {},
   "source": [
    "# Concatenate Eyes Close Features"
   ]
  },
  {
   "cell_type": "code",
   "execution_count": 2,
   "id": "88de251b-7a00-4c78-a9fa-35cb82cd30b7",
   "metadata": {},
   "outputs": [],
   "source": [
    "# Load the saved features from the .npz file\n",
    "data = np.load('ec_dwt.npz') \n",
    "\n",
    "# Access the concatenated features from the .npz file\n",
    "ec_dwt = data['X_dwt']\n",
    "\n",
    "# Close the loaded file\n",
    "data.close()"
   ]
  },
  {
   "cell_type": "code",
   "execution_count": 3,
   "id": "03bf3779-415d-4183-bbd7-03b5b3b1661a",
   "metadata": {},
   "outputs": [],
   "source": [
    "# Load the saved features from the .npz file\n",
    "data = np.load('ec_freq.npz') \n",
    "\n",
    "# Access the concatenated features from the .npz file\n",
    "ec_freq = data['X_frequency']\n",
    "\n",
    "# Close the loaded file\n",
    "data.close()"
   ]
  },
  {
   "cell_type": "code",
   "execution_count": 4,
   "id": "4844614e-98fd-49cf-83bd-683e04ae9c34",
   "metadata": {},
   "outputs": [],
   "source": [
    "# Load the saved features from the .npz file\n",
    "data = np.load('ec_time.npz') \n",
    "\n",
    "# Access the concatenated features from the .npz file\n",
    "ec_time = data['X_time']\n",
    "\n",
    "# Close the loaded file\n",
    "data.close()"
   ]
  },
  {
   "cell_type": "code",
   "execution_count": 5,
   "id": "e4abb702-1c03-4fd0-aeec-dca314579310",
   "metadata": {},
   "outputs": [
    {
     "name": "stdout",
     "output_type": "stream",
     "text": [
      "DWT: (73519, 205)\n",
      "Frequency Domain: (73519, 20)\n",
      "Time Domain: (73519, 13)\n"
     ]
    }
   ],
   "source": [
    "print(\"DWT:\", ec_dwt.shape)\n",
    "print(\"Frequency Domain:\", ec_freq.shape)\n",
    "print(\"Time Domain:\", ec_time.shape)"
   ]
  },
  {
   "cell_type": "code",
   "execution_count": 7,
   "id": "8ab8f1d7-fa61-4fdf-bad3-18005bef8e62",
   "metadata": {},
   "outputs": [],
   "source": [
    "X_merged_features = np.concatenate((ec_dwt, ec_freq, ec_time), axis=1)"
   ]
  },
  {
   "cell_type": "code",
   "execution_count": 8,
   "id": "6e22b722-786b-4ef7-b0d8-4ab42a3867b5",
   "metadata": {},
   "outputs": [
    {
     "name": "stdout",
     "output_type": "stream",
     "text": [
      "Features saved successfully.\n"
     ]
    }
   ],
   "source": [
    "# Define the file path to save the features\n",
    "save_path = 'Pz_merged_features.npz'\n",
    "\n",
    "# Save the features\n",
    "np.savez(save_path, X_merged_features=X_merged_features)\n",
    "\n",
    "print(\"Features saved successfully.\")"
   ]
  },
  {
   "cell_type": "markdown",
   "id": "9ce2b89f-aa8e-4947-b76d-468cf9d32ca6",
   "metadata": {},
   "source": [
    "# Concatenate Eyes Close Features"
   ]
  },
  {
   "cell_type": "code",
   "execution_count": 104,
   "id": "94f83bc1-589c-4d21-a081-b2768448544f",
   "metadata": {},
   "outputs": [],
   "source": [
    "# Load the saved features from the .npz file\n",
    "data = np.load('eo_dwt.npz') \n",
    "\n",
    "# Access the concatenated features from the .npz file\n",
    "eo_dwt = data['X_dwt']\n",
    "\n",
    "# Close the loaded file\n",
    "data.close()"
   ]
  },
  {
   "cell_type": "code",
   "execution_count": 105,
   "id": "71c97645-11da-45d5-9c3b-362c89d2fe43",
   "metadata": {},
   "outputs": [],
   "source": [
    "# Load the saved features from the .npz file\n",
    "data = np.load('eo_freq.npz') \n",
    "\n",
    "# Access the concatenated features from the .npz file\n",
    "eo_freq = data['X_frequency']\n",
    "\n",
    "# Close the loaded file\n",
    "data.close()"
   ]
  },
  {
   "cell_type": "code",
   "execution_count": 106,
   "id": "7cf87331-940e-450d-8781-2dedb092c4cb",
   "metadata": {},
   "outputs": [],
   "source": [
    "# Load the saved features from the .npz file\n",
    "data = np.load('eo_time.npz') \n",
    "\n",
    "# Access the concatenated features from the .npz file\n",
    "eo_time = data['X_time']\n",
    "\n",
    "# Close the loaded file\n",
    "data.close()"
   ]
  },
  {
   "cell_type": "code",
   "execution_count": 107,
   "id": "fa6cf9ba-4d6a-4830-b61c-8caa4fa454bb",
   "metadata": {},
   "outputs": [
    {
     "name": "stdout",
     "output_type": "stream",
     "text": [
      "DWT: (831, 20, 205)\n",
      "Frequency Domain: (831, 20, 20)\n",
      "Time Domain: (831, 20, 13)\n"
     ]
    }
   ],
   "source": [
    "print(\"DWT:\", eo_dwt.shape)\n",
    "print(\"Frequency Domain:\", eo_freq.shape)\n",
    "print(\"Time Domain:\", eo_time.shape)"
   ]
  },
  {
   "cell_type": "code",
   "execution_count": 108,
   "id": "41889354-0c4f-45c2-af7a-eb44e9867c27",
   "metadata": {},
   "outputs": [],
   "source": [
    "X_merged_features = np.concatenate((eo_dwt, eo_freq, eo_time), axis=2)"
   ]
  },
  {
   "cell_type": "code",
   "execution_count": 109,
   "id": "dc8040aa-ed6f-4e01-beb7-a162ec63ce9c",
   "metadata": {},
   "outputs": [
    {
     "name": "stdout",
     "output_type": "stream",
     "text": [
      "Features saved successfully.\n"
     ]
    }
   ],
   "source": [
    "# Define the file path to save the features\n",
    "save_path = 'eo_merged_features.npz'\n",
    "\n",
    "# Save the features\n",
    "np.savez(save_path, X_merged_features=X_merged_features)\n",
    "\n",
    "print(\"Features saved successfully.\")"
   ]
  },
  {
   "cell_type": "markdown",
   "id": "8c97fd32-bd4a-4d00-954e-f2ff7eb3a33a",
   "metadata": {},
   "source": [
    "# Concatenate Task Features"
   ]
  },
  {
   "cell_type": "code",
   "execution_count": 110,
   "id": "ac4f1e62-bc97-44ca-af2b-338a74abf11b",
   "metadata": {},
   "outputs": [],
   "source": [
    "# Load the saved features from the .npz file\n",
    "data = np.load('task_dwt.npz') \n",
    "\n",
    "# Access the concatenated features from the .npz file\n",
    "task_dwt = data['X_dwt']\n",
    "\n",
    "# Close the loaded file\n",
    "data.close()"
   ]
  },
  {
   "cell_type": "code",
   "execution_count": 111,
   "id": "b929a05d-c5c7-4227-ac1f-0a6cdb7d0019",
   "metadata": {},
   "outputs": [],
   "source": [
    "# Load the saved features from the .npz file\n",
    "data = np.load('task_freq.npz') \n",
    "\n",
    "# Access the concatenated features from the .npz file\n",
    "task_freq = data['X_frequency']\n",
    "\n",
    "# Close the loaded file\n",
    "data.close()"
   ]
  },
  {
   "cell_type": "code",
   "execution_count": 112,
   "id": "0e437e95-2e48-447e-adf5-5cd6bda1bb72",
   "metadata": {},
   "outputs": [],
   "source": [
    "# Load the saved features from the .npz file\n",
    "data = np.load('task_time.npz') \n",
    "\n",
    "# Access the concatenated features from the .npz file\n",
    "task_time = data['X_time']\n",
    "\n",
    "# Close the loaded file\n",
    "data.close()"
   ]
  },
  {
   "cell_type": "code",
   "execution_count": 113,
   "id": "be9f81b2-119f-4e1d-8094-7468c98b1c50",
   "metadata": {},
   "outputs": [
    {
     "name": "stdout",
     "output_type": "stream",
     "text": [
      "DWT: (1815, 20, 205)\n",
      "Frequency Domain: (1815, 20, 20)\n",
      "Time Domain: (1815, 20, 13)\n"
     ]
    }
   ],
   "source": [
    "print(\"DWT:\", task_dwt.shape)\n",
    "print(\"Frequency Domain:\", task_freq.shape)\n",
    "print(\"Time Domain:\", task_time.shape)"
   ]
  },
  {
   "cell_type": "code",
   "execution_count": 114,
   "id": "d0aa03b5-a59d-4445-8d4a-0f10b9273369",
   "metadata": {},
   "outputs": [],
   "source": [
    "X_merged_features = np.concatenate((task_dwt, task_freq, task_time), axis=2)"
   ]
  },
  {
   "cell_type": "code",
   "execution_count": 115,
   "id": "cc180168-d220-49c7-8acc-8fc425221b88",
   "metadata": {},
   "outputs": [
    {
     "name": "stdout",
     "output_type": "stream",
     "text": [
      "Features saved successfully.\n"
     ]
    }
   ],
   "source": [
    "# Define the file path to save the features\n",
    "save_path = 'task_merged_features.npz'\n",
    "\n",
    "# Save the features\n",
    "np.savez(save_path, X_merged_features=X_merged_features)\n",
    "\n",
    "print(\"Features saved successfully.\")"
   ]
  },
  {
   "cell_type": "markdown",
   "id": "fd033672-0fe4-4088-b1eb-c47390677de9",
   "metadata": {},
   "source": [
    "# Concatenate Combined Features"
   ]
  },
  {
   "cell_type": "code",
   "execution_count": 2,
   "id": "53e3dfbc-081f-4998-9e8e-e287f8290906",
   "metadata": {},
   "outputs": [],
   "source": [
    "# Load the saved features from the .npz file\n",
    "data = np.load('combined_dwt.npz') \n",
    "\n",
    "# Access the concatenated features from the .npz file\n",
    "combined_dwt = data['X_dwt']\n",
    "\n",
    "# Close the loaded file\n",
    "data.close()"
   ]
  },
  {
   "cell_type": "code",
   "execution_count": 3,
   "id": "d21de3cc-8dc6-45cf-84f9-515631200c79",
   "metadata": {},
   "outputs": [],
   "source": [
    "# Load the saved features from the .npz file\n",
    "data = np.load('combined_freq.npz') \n",
    "\n",
    "# Access the concatenated features from the .npz file\n",
    "combined_freq = data['X_frequency']\n",
    "\n",
    "# Close the loaded file\n",
    "data.close()"
   ]
  },
  {
   "cell_type": "code",
   "execution_count": 4,
   "id": "819284cb-7c74-4c41-92ac-c4814db160c3",
   "metadata": {},
   "outputs": [],
   "source": [
    "# Load the saved features from the .npz file\n",
    "data = np.load('combined_time.npz') \n",
    "\n",
    "# Access the concatenated features from the .npz file\n",
    "combined_time = data['X_time']\n",
    "\n",
    "# Close the loaded file\n",
    "data.close()"
   ]
  },
  {
   "cell_type": "code",
   "execution_count": 119,
   "id": "a5caedda-4030-4d9d-b479-13985d05f366",
   "metadata": {},
   "outputs": [
    {
     "name": "stdout",
     "output_type": "stream",
     "text": [
      "DWT: (3443, 20, 205)\n",
      "Frequency Domain: (3443, 20, 20)\n",
      "Time Domain: (3443, 20, 13)\n"
     ]
    }
   ],
   "source": [
    "print(\"DWT:\", combined_dwt.shape)\n",
    "print(\"Frequency Domain:\", combined_freq.shape)\n",
    "print(\"Time Domain:\", combined_time.shape)"
   ]
  },
  {
   "cell_type": "code",
   "execution_count": 7,
   "id": "40e1b7b0-791d-47ab-b03c-56e28bc5cb5d",
   "metadata": {},
   "outputs": [],
   "source": [
    "X_merged_features = np.concatenate((combined_dwt, combined_freq, combined_time), axis=2)"
   ]
  },
  {
   "cell_type": "code",
   "execution_count": 8,
   "id": "d7bc5f75-2d93-4d94-ad5f-053808a30036",
   "metadata": {},
   "outputs": [
    {
     "name": "stdout",
     "output_type": "stream",
     "text": [
      "Features saved successfully.\n"
     ]
    }
   ],
   "source": [
    "# Define the file path to save the features\n",
    "save_path = 'combined_eceo_merged_features.npz'\n",
    "\n",
    "# Save the features\n",
    "np.savez(save_path, X_merged_features=X_merged_features)\n",
    "\n",
    "print(\"Features saved successfully.\")"
   ]
  },
  {
   "cell_type": "code",
   "execution_count": null,
   "id": "ffd82b5f-77a9-467a-816c-2cb70a24fce0",
   "metadata": {},
   "outputs": [],
   "source": []
  },
  {
   "cell_type": "code",
   "execution_count": null,
   "id": "19f4f480-18b4-4f64-b462-7510b655304f",
   "metadata": {},
   "outputs": [],
   "source": []
  }
 ],
 "metadata": {
  "kernelspec": {
   "display_name": "Python 3 (ipykernel)",
   "language": "python",
   "name": "python3"
  },
  "language_info": {
   "codemirror_mode": {
    "name": "ipython",
    "version": 3
   },
   "file_extension": ".py",
   "mimetype": "text/x-python",
   "name": "python",
   "nbconvert_exporter": "python",
   "pygments_lexer": "ipython3",
   "version": "3.9.19"
  }
 },
 "nbformat": 4,
 "nbformat_minor": 5
}
