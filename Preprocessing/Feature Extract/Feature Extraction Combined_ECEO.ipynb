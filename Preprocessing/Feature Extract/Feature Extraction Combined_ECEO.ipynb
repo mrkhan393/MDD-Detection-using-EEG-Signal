{
 "cells": [
  {
   "cell_type": "markdown",
   "id": "ad10c9f0-fd2f-43a7-ad76-aaa8cf980d92",
   "metadata": {},
   "source": [
    "# Import Necessary Libraries"
   ]
  },
  {
   "cell_type": "code",
   "execution_count": 1,
   "id": "70f123a5-57c4-4753-823b-f40a7afe4436",
   "metadata": {},
   "outputs": [],
   "source": [
    "import numpy as np\n",
    "import os\n",
    "import mne\n",
    "import pywt\n",
    "from sklearn.model_selection import train_test_split\n",
    "from sklearn.preprocessing import StandardScaler\n",
    "import tensorflow as tf\n",
    "from tensorflow.keras import layers, models\n",
    "from scipy.interpolate import interp1d\n",
    "from scipy.stats import skew\n",
    "from scipy.signal import welch\n",
    "from scipy.stats import entropy"
   ]
  },
  {
   "cell_type": "markdown",
   "id": "8e9d106a-06a1-4097-accf-06521f4842d7",
   "metadata": {},
   "source": [
    "# Data and Labels"
   ]
  },
  {
   "cell_type": "code",
   "execution_count": 2,
   "id": "24a395ac-a2a9-46dc-9a03-976b79db53ac",
   "metadata": {
    "scrolled": true
   },
   "outputs": [
    {
     "data": {
      "text/plain": [
       "array([[[-2.90148955e-06,  1.12909709e-06,  2.63543120e-06, ...,\n",
       "         -2.89727495e-06, -6.80166352e-07,  1.37569339e-06],\n",
       "        [-1.20626610e-05, -1.10767687e-05, -1.06193111e-05, ...,\n",
       "         -5.28302598e-06, -3.08162134e-06, -1.08686640e-06],\n",
       "        [-3.79762923e-07, -2.07405219e-06, -4.63428751e-06, ...,\n",
       "         -1.40524844e-06, -2.77773978e-07,  5.66622077e-07],\n",
       "        ...,\n",
       "        [ 1.29488217e-06,  1.93576102e-06,  1.93742471e-06, ...,\n",
       "         -5.94415587e-06, -6.17930937e-06, -4.59392322e-06],\n",
       "        [ 6.58896488e-06,  7.07184518e-06,  7.21316883e-06, ...,\n",
       "          1.58482089e-06,  1.10701546e-06,  1.01823366e-06],\n",
       "        [ 2.77446316e-06, -3.67728944e-06, -5.35505842e-06, ...,\n",
       "          1.31410061e-05,  9.10587005e-06,  1.86895170e-06]],\n",
       "\n",
       "       [[ 1.65448073e-05,  1.31738316e-05,  9.04923854e-06, ...,\n",
       "         -4.42389546e-06, -3.17349259e-06, -1.59048273e-06],\n",
       "        [ 4.49196432e-06,  3.74644878e-06,  1.34007439e-06, ...,\n",
       "         -9.20414914e-06, -8.74245961e-06, -7.68323116e-06],\n",
       "        [ 5.96287737e-06,  5.28055261e-06,  3.75716809e-06, ...,\n",
       "         -9.00376472e-06, -1.04846958e-05, -1.02104013e-05],\n",
       "        ...,\n",
       "        [ 5.85272403e-07, -4.58473124e-07, -2.02799856e-06, ...,\n",
       "         -6.15575118e-06, -6.26038172e-06, -4.72715465e-06],\n",
       "        [-3.68389055e-06, -3.57264958e-06, -2.29626949e-06, ...,\n",
       "         -4.53289795e-06, -5.01991917e-06, -4.92008530e-06],\n",
       "        [-4.07969128e-06, -5.35730487e-06, -7.88991474e-06, ...,\n",
       "          2.26940901e-05,  2.32598777e-05,  2.10072940e-05]],\n",
       "\n",
       "       [[ 8.80975676e-07,  2.51014649e-06,  5.09485744e-06, ...,\n",
       "         -2.70493297e-06, -3.46322395e-06, -2.37914583e-06],\n",
       "        [ 8.81274991e-06,  1.05119707e-05,  9.45152442e-06, ...,\n",
       "          3.07578239e-06,  2.01424450e-06,  1.86419902e-06],\n",
       "        [ 6.09879226e-06,  5.94037510e-06,  3.94677227e-06, ...,\n",
       "          1.84030489e-06,  1.10741030e-06,  5.97557857e-07],\n",
       "        ...,\n",
       "        [ 6.98723397e-06,  6.74280636e-06,  5.47370655e-06, ...,\n",
       "          8.78144874e-06,  8.47588763e-06,  6.85656232e-06],\n",
       "        [ 8.58908879e-06,  9.76908086e-06,  9.19822469e-06, ...,\n",
       "          3.38938300e-08, -1.22288498e-06, -3.18908860e-06],\n",
       "        [-2.97821680e-05, -3.21979933e-05, -2.95162172e-05, ...,\n",
       "          3.49631068e-06,  4.97627298e-06,  3.61075922e-06]],\n",
       "\n",
       "       ...,\n",
       "\n",
       "       [[ 2.70231612e-06,  2.02964361e-06,  1.83392217e-06, ...,\n",
       "         -2.71152362e-06, -1.17334275e-06,  4.33376556e-07],\n",
       "        [ 3.94804965e-06,  2.05144806e-06,  4.58429916e-08, ...,\n",
       "         -6.63289541e-07, -2.90802177e-06, -4.07966490e-06],\n",
       "        [-1.98322439e-07, -2.04067959e-07, -1.57393231e-07, ...,\n",
       "         -3.02833996e-06, -4.67095333e-06, -4.98696318e-06],\n",
       "        ...,\n",
       "        [ 3.17041054e-06,  1.08588563e-06, -7.15179226e-07, ...,\n",
       "          2.85032229e-06,  1.71310148e-06,  6.59571811e-07],\n",
       "        [-2.75822345e-06, -1.00957504e-06,  7.52042013e-07, ...,\n",
       "         -1.75132470e-06, -1.01264322e-06,  4.14931918e-07],\n",
       "        [-6.43504518e-06, -6.12054009e-06, -5.22208848e-06, ...,\n",
       "         -7.47099932e-07,  1.34474005e-08,  3.59119440e-07]],\n",
       "\n",
       "       [[-3.73831745e-06,  5.91295816e-07,  4.84506290e-06, ...,\n",
       "         -9.17060390e-07, -2.47049979e-06, -3.54804183e-06],\n",
       "        [ 1.59396893e-06,  1.10400799e-06,  1.66133063e-07, ...,\n",
       "         -1.07835949e-05, -1.09192706e-05, -8.35481023e-06],\n",
       "        [-1.62651224e-06, -2.19403296e-06, -2.61072068e-06, ...,\n",
       "         -6.93822767e-06, -6.92089225e-06, -3.92613083e-06],\n",
       "        ...,\n",
       "        [-2.41677458e-06, -4.32934667e-06, -5.30508623e-06, ...,\n",
       "         -1.78139237e-06, -7.87435738e-07,  6.33615173e-07],\n",
       "        [-2.36622714e-06, -2.96420740e-06, -3.21934613e-06, ...,\n",
       "          2.79561777e-06,  3.16510545e-06,  3.48455683e-06],\n",
       "        [ 9.05892375e-06,  6.73022942e-06,  3.38094583e-06, ...,\n",
       "          7.78631329e-06,  9.25997847e-06,  8.14608393e-06]],\n",
       "\n",
       "       [[ 1.86918146e-06,  4.13021689e-06,  4.85348210e-06, ...,\n",
       "          5.99059740e-06,  5.74210799e-06,  4.13749513e-06],\n",
       "        [-5.39573008e-08,  1.65353839e-07, -1.31656449e-07, ...,\n",
       "         -9.41683993e-06, -9.46773889e-06, -7.74432192e-06],\n",
       "        [ 1.98083808e-06,  1.03735249e-06,  3.16170798e-07, ...,\n",
       "         -4.72102238e-06, -5.55115685e-06, -5.38112954e-06],\n",
       "        ...,\n",
       "        [ 3.10039172e-06,  2.61210357e-06,  8.62090815e-07, ...,\n",
       "         -3.76895900e-06, -3.45929493e-06, -2.35550169e-06],\n",
       "        [ 2.72289390e-06,  1.92333846e-06,  8.42246664e-07, ...,\n",
       "          7.71134182e-07,  7.74633065e-07,  9.61161845e-07],\n",
       "        [-5.17300896e-06, -1.50467861e-06,  2.32972047e-06, ...,\n",
       "          8.22909078e-06,  1.12799144e-05,  1.24189755e-05]]])"
      ]
     },
     "execution_count": 2,
     "metadata": {},
     "output_type": "execute_result"
    }
   ],
   "source": [
    "# Load the saved features from the .npz file\n",
    "data = np.load('combined_eceo_data.npz') \n",
    "\n",
    "# Access the concatenated features from the .npz file\n",
    "X = data['X']\n",
    "\n",
    "# Close the loaded file\n",
    "data.close()\n",
    "\n",
    "#print the merged array\n",
    "X"
   ]
  },
  {
   "cell_type": "code",
   "execution_count": 3,
   "id": "24a94518-4ed9-4fad-ba89-42ac91985014",
   "metadata": {},
   "outputs": [
    {
     "data": {
      "text/plain": [
       "array([0, 0, 0, ..., 1, 1, 1])"
      ]
     },
     "execution_count": 3,
     "metadata": {},
     "output_type": "execute_result"
    }
   ],
   "source": [
    "data = np.load('combined_eceo_labels.npz')\n",
    "\n",
    "Y = data['Y']\n",
    "\n",
    "data.close() \n",
    "\n",
    "Y"
   ]
  },
  {
   "cell_type": "code",
   "execution_count": 4,
   "id": "9e528958-2fa7-4ede-bef3-05841924fb85",
   "metadata": {},
   "outputs": [
    {
     "data": {
      "text/plain": [
       "array([0, 0, 0, ..., 1, 1, 1])"
      ]
     },
     "execution_count": 4,
     "metadata": {},
     "output_type": "execute_result"
    }
   ],
   "source": [
    "data = np.load('combined_eceo_groups.npz')\n",
    "\n",
    "group = data['group']\n",
    "\n",
    "data.close() \n",
    "\n",
    "group"
   ]
  },
  {
   "cell_type": "markdown",
   "id": "a6a49bf9-fd9e-461c-bc45-3ca9cafbc21e",
   "metadata": {},
   "source": [
    "# Functions of Feature Extraction"
   ]
  },
  {
   "cell_type": "markdown",
   "id": "32013f44-59d3-4900-8c43-bb04ec0c8a04",
   "metadata": {},
   "source": [
    "## Time Domain Features"
   ]
  },
  {
   "cell_type": "code",
   "execution_count": 5,
   "id": "1263ad5e-a2f9-47bd-98a5-bc6ba5d81fac",
   "metadata": {},
   "outputs": [],
   "source": [
    "import numpy as np\n",
    "from scipy.stats import skew, kurtosis\n",
    "from scipy.signal import find_peaks\n",
    "\n",
    "def zero_crossing_rate(signal):\n",
    "    zero_crossings = np.where(np.diff(np.sign(signal)))[0]\n",
    "    return len(zero_crossings) / len(signal)\n",
    "\n",
    "def hjorth_parameters(signal):\n",
    "    diff_input = np.diff(signal)\n",
    "    diff_diff_input = np.diff(diff_input)\n",
    "\n",
    "    activity = np.var(signal)\n",
    "    mobility = np.sqrt(np.var(diff_input)/activity)\n",
    "    complexity = np.sqrt(np.var(diff_diff_input)/np.var(diff_input)) / mobility\n",
    "\n",
    "    return activity, mobility, complexity\n",
    "\n",
    "def extract_time_domain_features(epochs):\n",
    "    features = []\n",
    "\n",
    "    for epoch in epochs:\n",
    "        epoch_features = []\n",
    "\n",
    "        for channel_data in epoch:\n",
    "            # Flatten the channel data\n",
    "            flattened_data = channel_data.flatten()\n",
    "\n",
    "            # Basic Time-Domain Features\n",
    "            mean_val = np.mean(flattened_data)\n",
    "            median_val = np.median(flattened_data)\n",
    "            var_val = np.var(flattened_data)\n",
    "            std_dev = np.std(flattened_data)\n",
    "            skewness = skew(flattened_data)\n",
    "            kurt = kurtosis(flattened_data)\n",
    "            zcr = zero_crossing_rate(flattened_data)\n",
    "            peak_amp = np.ptp(flattened_data)\n",
    "\n",
    "            # Hjorth Parameters\n",
    "            activity, mobility, complexity = hjorth_parameters(flattened_data)\n",
    "\n",
    "            # Additional Features\n",
    "            num_waves = len(find_peaks(flattened_data)[0])\n",
    "            wave_duration = len(flattened_data) / num_waves if num_waves > 0 else 0\n",
    "\n",
    "            channel_features = [\n",
    "                mean_val, median_val, var_val, std_dev, skewness, kurt, zcr, num_waves,\n",
    "                wave_duration, peak_amp, activity, mobility, complexity\n",
    "            ]\n",
    "            epoch_features.append(channel_features)\n",
    "\n",
    "        features.append(epoch_features)\n",
    "\n",
    "    return np.array(features)"
   ]
  },
  {
   "cell_type": "markdown",
   "id": "260b19cf-f12d-471b-b6a3-3f9798c25f5d",
   "metadata": {},
   "source": [
    "## Frequency Domain Features"
   ]
  },
  {
   "cell_type": "code",
   "execution_count": 6,
   "id": "2aebb562-a402-4499-9f10-7a4767edf870",
   "metadata": {},
   "outputs": [],
   "source": [
    "import numpy as np\n",
    "from scipy.stats import skew, kurtosis\n",
    "from scipy.signal import welch\n",
    "\n",
    "\n",
    "\n",
    "def get_wavelet_coeffs(channel_data, wavelet='db4', level=3):\n",
    "    coeffs = pywt.wavedec(channel_data, wavelet, level=level)\n",
    "    return coeffs\n",
    "\n",
    "\n",
    "def extract_frequency_domain_features(epochs, sfreq,wavelet='db4', bands={'delta': (1, 3), 'theta': (4, 7), 'alpha': (8, 12), 'beta': (13, 30), 'gamma': (31, 60), 'sigma': (11, 16)}):\n",
    "    features = []\n",
    "\n",
    "    for epoch in epochs:\n",
    "        epoch_features = []\n",
    "\n",
    "        for channel_data in epoch:\n",
    "            # Compute the Power Spectral Density (PSD)\n",
    "            freqs, psd = welch(channel_data, sfreq, nperseg=180)\n",
    "\n",
    "            # Frequency domain features\n",
    "            mean_val = np.mean(psd)\n",
    "            median_val = np.median(psd)\n",
    "            var_val = np.var(psd)\n",
    "            std_dev = np.std(psd)\n",
    "            skewness = skew(psd)\n",
    "            kurt = kurtosis(psd)\n",
    "\n",
    "            # Compute wavelet coefficients\n",
    "            wave_coeffs = get_wavelet_coeffs(channel_data, wavelet, level=3)\n",
    "            wave_coeffs_mean = np.mean(wave_coeffs[0])\n",
    "\n",
    "            # Band Power Features\n",
    "            band_powers = {}\n",
    "            for band, freq_range in bands.items():\n",
    "                freq_mask = (freqs >= freq_range[0]) & (freqs <= freq_range[1])\n",
    "                band_power = np.sum(psd[freq_mask])\n",
    "                band_powers[band] = band_power\n",
    "\n",
    "            # Band Power Ratios\n",
    "            theta_alpha_ratio = band_powers['theta'] / band_powers['alpha']\n",
    "            beta_alpha_ratio = band_powers['beta'] / band_powers['alpha']\n",
    "            theta_alpha_beta_ratio = (band_powers['theta'] + band_powers['alpha']) / band_powers['beta']\n",
    "            # Additional Band Power Ratios\n",
    "            theta_beta_ratio = band_powers['theta'] / band_powers['beta']\n",
    "            theta_alpha_beta_alpha_ratio = (band_powers['theta'] + band_powers['alpha']) / (band_powers['alpha'] + band_powers['beta'])\n",
    "            gamma_delta_ratio = band_powers['gamma'] / band_powers['delta']\n",
    "            gamma_beta_delta_alpha_ratio = (band_powers['gamma'] + band_powers['beta']) / (band_powers['delta'] + band_powers['alpha'])\n",
    "\n",
    "\n",
    "            channel_features = [\n",
    "                mean_val, median_val, var_val, std_dev, skewness, kurt,\n",
    "                band_powers['delta'], band_powers['theta'], band_powers['alpha'],\n",
    "                band_powers['beta'], band_powers['gamma'], band_powers['sigma'],\n",
    "                theta_alpha_ratio, beta_alpha_ratio, theta_alpha_beta_ratio,theta_beta_ratio,\n",
    "                theta_alpha_beta_alpha_ratio, gamma_delta_ratio, gamma_beta_delta_alpha_ratio,\n",
    "                wave_coeffs_mean\n",
    "            ]\n",
    "            epoch_features.append(channel_features)\n",
    "\n",
    "        features.append(epoch_features)\n",
    "\n",
    "    return np.array(features)"
   ]
  },
  {
   "cell_type": "markdown",
   "id": "1e76d9c5-f176-4a1d-b848-941235788af2",
   "metadata": {},
   "source": [
    "## Descrete Wavelet Transform (DWT) Features"
   ]
  },
  {
   "cell_type": "code",
   "execution_count": 7,
   "id": "0f315483-84e9-4b89-afe4-3135fdb4c239",
   "metadata": {},
   "outputs": [],
   "source": [
    "import pywt\n",
    "\n",
    "def extract_dwt_features(epochs, wavelet='db4', level=4):\n",
    "   \n",
    "    n_epochs, n_channels, _ = epochs.shape\n",
    "    dwt_features = []\n",
    "\n",
    "    for epoch in epochs:\n",
    "        epoch_features = []\n",
    "        for channel in epoch:\n",
    "            # Perform DWT\n",
    "            coeffs = pywt.wavedec(channel, wavelet, level=level)\n",
    "            \n",
    "            # Concatenate DWT coefficients\n",
    "            concatenated_coeffs = np.concatenate(coeffs, axis=0)\n",
    "            \n",
    "            epoch_features.append(concatenated_coeffs)\n",
    "        \n",
    "        dwt_features.append(epoch_features)\n",
    "\n",
    "    return np.array(dwt_features)"
   ]
  },
  {
   "cell_type": "markdown",
   "id": "3ab5379f-3697-45d5-ae2a-ec6c953fb2a6",
   "metadata": {
    "jp-MarkdownHeadingCollapsed": true
   },
   "source": [
    "## Detrended Flactuation Analysis (DFA)"
   ]
  },
  {
   "cell_type": "code",
   "execution_count": 5,
   "id": "f4cae3ae-1ab7-4de7-8fd3-7d14dfbbe245",
   "metadata": {},
   "outputs": [],
   "source": [
    "def extract_dfa_features(epochs, min_window_size, max_window_size):\n",
    "    \n",
    "    n_epochs, n_channels, _ = epochs.shape\n",
    "    dfa_features = []\n",
    "\n",
    "    for epoch in epochs:\n",
    "        epoch_features = []\n",
    "        for channel in epoch:\n",
    "            channel_features = []\n",
    "            for w in range(min_window_size, max_window_size + 1):\n",
    "                # Compute DFA\n",
    "                dfa = compute_dfa(channel, w)\n",
    "                channel_features.append(dfa)\n",
    "            epoch_features.append(channel_features)\n",
    "        dfa_features.append(epoch_features)\n",
    "\n",
    "    return np.array(dfa_features)\n",
    "\n",
    "def compute_dfa(data, window_size):\n",
    "    \"\"\"Compute Detrended Fluctuation Analysis (DFA) for a single channel.\"\"\"\n",
    "    # Compute cumulative sum of the data\n",
    "    cumsum = np.cumsum(data - np.mean(data))\n",
    "\n",
    "    # Divide the signal into non-overlapping windows of size window_size\n",
    "    windows = np.array_split(cumsum, len(data) // window_size)\n",
    "\n",
    "    # Compute the local trend within each window\n",
    "    trends = [np.polyfit(np.arange(len(window)), window, 1)[0] for window in windows]\n",
    "\n",
    "    # Compute the root mean square of the integrated fluctuation within each window\n",
    "    flucts = np.array([np.sqrt(np.mean((window - trend) ** 2)) for window, trend in zip(windows, trends)])\n",
    "\n",
    "    # Compute the DFA value as the slope of the log-log plot of window size vs. fluctuation\n",
    "    dfa = np.polyfit(np.log(np.arange(len(flucts)) + 1), np.log(flucts), 1)[0]\n",
    "\n",
    "    return dfa"
   ]
  },
  {
   "cell_type": "markdown",
   "id": "f7645884-cae2-47a4-a1b2-231237dc7164",
   "metadata": {
    "jp-MarkdownHeadingCollapsed": true
   },
   "source": [
    "## Higuchi's Fractual Dimension (HFD)"
   ]
  },
  {
   "cell_type": "code",
   "execution_count": 3,
   "id": "924873e1-2fe7-4906-937d-1d057308a365",
   "metadata": {},
   "outputs": [],
   "source": [
    "def extract_hfd_features(epochs, kmax):\n",
    "   \n",
    "    n_epochs, n_channels, _ = epochs.shape\n",
    "    hfd_features = []\n",
    "\n",
    "    for epoch in epochs:\n",
    "        epoch_features = []\n",
    "        for channel in epoch:\n",
    "            channel_features = []\n",
    "            for k in range(2, kmax+1):\n",
    "                # Compute Higuchi's Fractal Dimension\n",
    "                hfd = compute_hfd(channel, k)\n",
    "                channel_features.append(hfd)\n",
    "            epoch_features.append(channel_features)\n",
    "        hfd_features.append(epoch_features)\n",
    "\n",
    "    return np.array(hfd_features)\n",
    "\n",
    "\n",
    "def compute_hfd(data, kmax):\n",
    "    \"\"\"Compute Higuchi's Fractal Dimension for a single channel.\"\"\"\n",
    "    n = len(data)\n",
    "    lk = np.zeros(kmax)\n",
    "\n",
    "    for k in range(2, kmax + 1):\n",
    "        lmk = 0.0\n",
    "        for m in range(1, k + 1):\n",
    "            lk_m_sum = 0.0\n",
    "            for i in range(1, int(np.floor((n - m) / k)) + 1):\n",
    "                lk_m_sum += abs(data[m + i * k - 1] - data[m + (i - 1) * k - 1])\n",
    "            lk_m_sum *= (n - 1) / (k * np.floor((n - m) / k))\n",
    "            lmk += lk_m_sum / ((n - 1) / k)\n",
    "        lmk /= k\n",
    "        lk[k - 1] = lmk\n",
    "\n",
    "    return np.log(lk) / np.log(np.arange(2, kmax + 2))"
   ]
  },
  {
   "cell_type": "markdown",
   "id": "cdca61d2-3fa0-4295-a70f-dd80665d6ed9",
   "metadata": {
    "jp-MarkdownHeadingCollapsed": true
   },
   "source": [
    "## Lemple - Ziv Complexity (LZC)"
   ]
  },
  {
   "cell_type": "code",
   "execution_count": 3,
   "id": "38487322-8177-4554-8e26-b5593fe62820",
   "metadata": {},
   "outputs": [],
   "source": [
    "def extract_lzc_features(epochs):\n",
    "    n_epochs, n_channels, _ = epochs.shape\n",
    "    lzc_features = []\n",
    "\n",
    "    for epoch in epochs:\n",
    "        epoch_features = []\n",
    "        for channel in epoch:\n",
    "            # Compute LZC for each channel\n",
    "            lzc = compute_lzc(channel)\n",
    "            epoch_features.append(lzc)\n",
    "        lzc_features.append(epoch_features)\n",
    "\n",
    "    return np.array(lzc_features)\n",
    "\n",
    "\n",
    "def compute_lzc(data):\n",
    "    \"\"\"Compute Lempel-Ziv Complexity (LZC) for a single channel.\"\"\"\n",
    "    n = len(data)\n",
    "    u = [data[0]]\n",
    "    complexity = 1\n",
    "\n",
    "    for i in range(1, n):\n",
    "        w = data[i]\n",
    "        if w not in u:\n",
    "            u.append(w)\n",
    "            complexity += 1\n",
    "\n",
    "    return complexity / n"
   ]
  },
  {
   "cell_type": "markdown",
   "id": "104f9c1f-bd2e-4713-abd3-86544a9462b4",
   "metadata": {
    "jp-MarkdownHeadingCollapsed": true
   },
   "source": [
    "## Power Spectral Density (PSD)"
   ]
  },
  {
   "cell_type": "code",
   "execution_count": 4,
   "id": "d70e1cef-90e1-4047-9e2e-323a3f7b2f38",
   "metadata": {},
   "outputs": [],
   "source": [
    "def extract_psd_features(epochs, sfreq):\n",
    "    psd_features = []\n",
    "    \n",
    "    for epoch in epochs:\n",
    "        epoch_features = []\n",
    "        \n",
    "        for channel_data in epoch:\n",
    "            # Compute Power Spectral Density (PSD)\n",
    "            freqs, psd = welch(channel_data, fs=sfreq)\n",
    "            \n",
    "            # Integrate PSD over frequency bands\n",
    "            delta_power = np.trapz(psd[(freqs >= 0.5) & (freqs <= 4)], x=freqs[(freqs >= 0.5) & (freqs <= 4)])\n",
    "            theta_power = np.trapz(psd[(freqs > 4) & (freqs <= 8)], x=freqs[(freqs > 4) & (freqs <= 8)])\n",
    "            alpha_power = np.trapz(psd[(freqs > 8) & (freqs <= 13)], x=freqs[(freqs > 8) & (freqs <= 13)])\n",
    "            beta_power = np.trapz(psd[(freqs > 13) & (freqs <= 30)], x=freqs[(freqs > 13) & (freqs <= 30)])\n",
    "            gamma_power = np.trapz(psd[(freqs > 30) & (freqs <= 100)], x=freqs[(freqs > 30) & (freqs <= 100)])\n",
    "            \n",
    "            # Total power\n",
    "            total_power = np.trapz(psd, x=freqs)\n",
    "            \n",
    "            epoch_features.append([delta_power, theta_power, alpha_power, beta_power, gamma_power, total_power])\n",
    "        \n",
    "        psd_features.append(epoch_features)\n",
    "    \n",
    "    return np.array(psd_features)"
   ]
  },
  {
   "cell_type": "markdown",
   "id": "ae5b7998-aaf7-428f-882e-a0ace0c78e4c",
   "metadata": {
    "jp-MarkdownHeadingCollapsed": true
   },
   "source": [
    "## Spectral Entropy"
   ]
  },
  {
   "cell_type": "code",
   "execution_count": 5,
   "id": "b4c31be0-2a8e-43d1-9d98-631b2a8501e7",
   "metadata": {},
   "outputs": [],
   "source": [
    "def extract_entropy_features(epochs):\n",
    "    entropy_features = []\n",
    "    \n",
    "    for epoch in epochs:\n",
    "        epoch_features = []\n",
    "        \n",
    "        for channel_data in epoch:\n",
    "            # Compute power spectral density\n",
    "            freqs, psd = welch(channel_data)\n",
    "            \n",
    "            # Normalize PSD\n",
    "            psd /= np.sum(psd)\n",
    "            \n",
    "            # Compute Shannon entropy\n",
    "            entropy_val = -np.sum(psd * np.log2(psd))\n",
    "            epoch_features.append(entropy_val)\n",
    "        \n",
    "        entropy_features.append(epoch_features)\n",
    "    \n",
    "    return np.array(entropy_features)"
   ]
  },
  {
   "cell_type": "markdown",
   "id": "06c5aa28-96a6-4838-99f1-63a9143d4dfe",
   "metadata": {
    "jp-MarkdownHeadingCollapsed": true
   },
   "source": [
    "## Statistical Features"
   ]
  },
  {
   "cell_type": "markdown",
   "id": "d2457b84-7efb-49ca-8139-7d905ab52d5a",
   "metadata": {},
   "source": [
    "### Mean"
   ]
  },
  {
   "cell_type": "code",
   "execution_count": 6,
   "id": "9e1bab47-d935-49a9-9820-292e14f370ee",
   "metadata": {},
   "outputs": [],
   "source": [
    "def extract_mean_features(epochs):\n",
    "    mean_features = []\n",
    "    \n",
    "    for epoch in epochs:\n",
    "        epoch_features = []\n",
    "        \n",
    "        for channel_data in epoch:\n",
    "            # Compute mean value\n",
    "            mean_val = np.mean(channel_data)\n",
    "            epoch_features.append(mean_val)\n",
    "        \n",
    "        mean_features.append(epoch_features)\n",
    "    \n",
    "    return np.array(mean_features)\n"
   ]
  },
  {
   "cell_type": "markdown",
   "id": "e949a275-1941-4a27-a6a3-46c41b9e48d8",
   "metadata": {},
   "source": [
    "### Variance"
   ]
  },
  {
   "cell_type": "code",
   "execution_count": 7,
   "id": "0fe38598-6af9-481b-8649-d4764e398290",
   "metadata": {},
   "outputs": [],
   "source": [
    "def extract_variance_features(epochs):\n",
    "    variance_features = []\n",
    "    \n",
    "    for epoch in epochs:\n",
    "        epoch_features = []\n",
    "        \n",
    "        for channel_data in epoch:\n",
    "            # Compute variance\n",
    "            var_val = np.var(channel_data)\n",
    "            epoch_features.append(var_val)\n",
    "        \n",
    "        variance_features.append(epoch_features)\n",
    "    \n",
    "    return np.array(variance_features)"
   ]
  },
  {
   "cell_type": "markdown",
   "id": "32230a0e-5505-4ab6-a341-ce7bdb1dddf8",
   "metadata": {},
   "source": [
    "### Skewness"
   ]
  },
  {
   "cell_type": "code",
   "execution_count": 8,
   "id": "87dc9337-4bf0-4570-9ddd-05fdf59993de",
   "metadata": {},
   "outputs": [],
   "source": [
    "def extract_skewness_features(epochs):\n",
    "    skewness_features = []\n",
    "    \n",
    "    for epoch in epochs:\n",
    "        epoch_features = []\n",
    "        \n",
    "        for channel_data in epoch:\n",
    "            # Compute skewness\n",
    "            skew_val = skew(channel_data)\n",
    "            epoch_features.append(skew_val)\n",
    "        \n",
    "        skewness_features.append(epoch_features)\n",
    "    \n",
    "    return np.array(skewness_features)"
   ]
  },
  {
   "cell_type": "markdown",
   "id": "6aeb32dd-8a25-482a-973f-198ca8872172",
   "metadata": {
    "jp-MarkdownHeadingCollapsed": true
   },
   "source": [
    "## Continuous Wavelet Transform (CWT)"
   ]
  },
  {
   "cell_type": "code",
   "execution_count": null,
   "id": "f0072e29-6942-48b3-be49-96f32579f4bd",
   "metadata": {},
   "outputs": [],
   "source": [
    "import pywt\n",
    "\n",
    "def extract_cwt_features(epochs, wavelet='morl', scales=np.arange(1, 128)):\n",
    "    n_epochs, n_channels, _ = epochs.shape\n",
    "    cwt_features = []\n",
    "\n",
    "    for epoch in epochs:\n",
    "        epoch_cwt_features = []\n",
    "        \n",
    "        for channel in epoch:\n",
    "            # Perform CWT\n",
    "            cwt_coeffs, _ = pywt.cwt(channel, scales, wavelet)\n",
    "            epoch_cwt_features.append(cwt_coeffs)\n",
    "\n",
    "        cwt_features.append(epoch_cwt_features)\n",
    "\n",
    "    return np.array(cwt_features)"
   ]
  },
  {
   "cell_type": "markdown",
   "id": "73bec5b0-f5a0-4b50-8ef5-b0748e3a366b",
   "metadata": {},
   "source": [
    "# Extract and Save Features"
   ]
  },
  {
   "cell_type": "markdown",
   "id": "264c3ad8-5751-44c5-8ad1-b7d38c15b301",
   "metadata": {},
   "source": [
    "## Time Domain Features"
   ]
  },
  {
   "cell_type": "code",
   "execution_count": 8,
   "id": "a4f4fd5c-a7df-4a49-bbf0-a11b419a9d7d",
   "metadata": {},
   "outputs": [],
   "source": [
    "X_time = extract_time_domain_features(X)"
   ]
  },
  {
   "cell_type": "code",
   "execution_count": 9,
   "id": "13dc7964-3e7e-43b0-ac78-ba8f40b0610a",
   "metadata": {},
   "outputs": [
    {
     "name": "stdout",
     "output_type": "stream",
     "text": [
      "Features saved successfully.\n"
     ]
    }
   ],
   "source": [
    "# Define the file path to save the features\n",
    "save_path = 'combined_eceo_time.npz'\n",
    "\n",
    "# # Save the features\n",
    "np.savez(save_path, X_time=X_time)\n",
    "\n",
    "print(\"Features saved successfully.\")"
   ]
  },
  {
   "cell_type": "markdown",
   "id": "a8b31617-6bd5-4fa1-a01d-848034bea551",
   "metadata": {},
   "source": [
    "## Frequency Domain Features"
   ]
  },
  {
   "cell_type": "code",
   "execution_count": 10,
   "id": "6e3daf77-3bda-410d-ac6f-b1bc580653dd",
   "metadata": {
    "scrolled": true
   },
   "outputs": [],
   "source": [
    "sfreq = 256  # Replace with the sampling frequency of your data\n",
    "# epochs_data = [epoch.get_data() for epoch in epochs] \n",
    "X_frequency = extract_frequency_domain_features(X, sfreq)"
   ]
  },
  {
   "cell_type": "code",
   "execution_count": 11,
   "id": "32c4db47-b084-48d1-849e-a417873d4f14",
   "metadata": {},
   "outputs": [
    {
     "name": "stdout",
     "output_type": "stream",
     "text": [
      "Features saved successfully.\n"
     ]
    }
   ],
   "source": [
    "# Define the file path to save the features\n",
    "save_path = 'combined_eceo_freq.npz'\n",
    "\n",
    "# Save the features\n",
    "np.savez(save_path, X_frequency=X_frequency)\n",
    "\n",
    "print(\"Features saved successfully.\")"
   ]
  },
  {
   "cell_type": "markdown",
   "id": "05bb079e-293c-43cc-bffd-f7c9da1bdf2d",
   "metadata": {},
   "source": [
    "## DWT Features"
   ]
  },
  {
   "cell_type": "code",
   "execution_count": 13,
   "id": "157f96c6-199a-4518-9932-956b876689ad",
   "metadata": {
    "scrolled": true
   },
   "outputs": [],
   "source": [
    "# Extract DWT features\n",
    "X_dwt = extract_dwt_features(X)"
   ]
  },
  {
   "cell_type": "code",
   "execution_count": 14,
   "id": "5029c74b-5739-42f7-b9f9-b9261cf45c92",
   "metadata": {},
   "outputs": [
    {
     "name": "stdout",
     "output_type": "stream",
     "text": [
      "Features saved successfully.\n"
     ]
    }
   ],
   "source": [
    "# Define the file path to save the features\n",
    "save_path = 'combined_eceo_dwt.npz'\n",
    "\n",
    "# Save the features\n",
    "np.savez(save_path, X_dwt=X_dwt)\n",
    "\n",
    "print(\"Features saved successfully.\")"
   ]
  },
  {
   "cell_type": "markdown",
   "id": "bb2d2f4a-e056-48eb-950b-898c129a622b",
   "metadata": {
    "jp-MarkdownHeadingCollapsed": true
   },
   "source": [
    "## DFA"
   ]
  },
  {
   "cell_type": "code",
   "execution_count": 4,
   "id": "38d85ad5-75d3-4288-af19-68897b6dac57",
   "metadata": {
    "scrolled": true
   },
   "outputs": [
    {
     "name": "stderr",
     "output_type": "stream",
     "text": [
      "C:\\Users\\Admin\\AppData\\Local\\Temp\\ipykernel_13724\\2949197905.py:3: FutureWarning: The current default of copy=False will change to copy=True in 1.7. Set the value of copy explicitly to avoid this warning\n",
      "  max_window_size = int(np.log2(X.get_data().shape[2]))\n",
      "C:\\Users\\Admin\\AppData\\Local\\Temp\\ipykernel_13724\\2949197905.py:6: FutureWarning: The current default of copy=False will change to copy=True in 1.7. Set the value of copy explicitly to avoid this warning\n",
      "  X_dfa = extract_dfa_features(X.get_data(), min_window_size, max_window_size)\n"
     ]
    }
   ],
   "source": [
    "# Define the minimum and maximum window sizes\n",
    "min_window_size = 2  # Since each epoch is 1 second long\n",
    "max_window_size = int(np.log2(X.get_data().shape[2]))\n",
    "\n",
    "# Extract DFA features\n",
    "X_dfa = extract_dfa_features(X.get_data(), min_window_size, max_window_size)"
   ]
  },
  {
   "cell_type": "code",
   "execution_count": 5,
   "id": "4837f31a-3836-4bad-94ea-59f628126496",
   "metadata": {},
   "outputs": [
    {
     "name": "stdout",
     "output_type": "stream",
     "text": [
      "Features saved successfully.\n"
     ]
    }
   ],
   "source": [
    "# Define the file path to save the features\n",
    "save_path = 'combined_dfa.npz'\n",
    "\n",
    "# Save the features\n",
    "np.savez(save_path, X_dfa=X_dfa)\n",
    "\n",
    "print(\"Features saved successfully.\")"
   ]
  },
  {
   "cell_type": "markdown",
   "id": "84712bb6-c63d-4cf2-b35e-e911b01fd365",
   "metadata": {
    "jp-MarkdownHeadingCollapsed": true
   },
   "source": [
    "## HFD"
   ]
  },
  {
   "cell_type": "code",
   "execution_count": null,
   "id": "503bb6e4-6cba-4445-8479-92f0dce61386",
   "metadata": {
    "scrolled": true
   },
   "outputs": [
    {
     "name": "stderr",
     "output_type": "stream",
     "text": [
      "C:\\Users\\Admin\\AppData\\Local\\Temp\\ipykernel_17972\\1036302989.py:4: FutureWarning: The current default of copy=False will change to copy=True in 1.7. Set the value of copy explicitly to avoid this warning\n",
      "  X_hfd = extract_hfd_features(X.get_data(), kmax)\n",
      "C:\\Users\\Admin\\AppData\\Local\\Temp\\ipykernel_17972\\1668856596.py:36: RuntimeWarning: divide by zero encountered in log\n",
      "  return np.log(lk) / np.log(np.arange(2, kmax + 2))\n",
      "C:\\Users\\Admin\\AppData\\Local\\Temp\\ipykernel_17972\\1668856596.py:31: RuntimeWarning: divide by zero encountered in scalar divide\n",
      "  lk_m_sum *= (n - 1) / (k * np.floor((n - m) / k))\n",
      "C:\\Users\\Admin\\AppData\\Local\\Temp\\ipykernel_17972\\1668856596.py:31: RuntimeWarning: invalid value encountered in scalar multiply\n",
      "  lk_m_sum *= (n - 1) / (k * np.floor((n - m) / k))\n"
     ]
    }
   ],
   "source": [
    "sfreq = 256\n",
    "kmax = sfreq//2\n",
    "# Extract Higuchi's Fractal Dimension features\n",
    "X_hfd = extract_hfd_features(X.get_data(), kmax)"
   ]
  },
  {
   "cell_type": "code",
   "execution_count": null,
   "id": "217432df-e2c9-4db3-82a5-80447c778906",
   "metadata": {},
   "outputs": [],
   "source": [
    "# Define the file path to save the features\n",
    "save_path = 'combined_hfd.npz'\n",
    "\n",
    "# Save the features\n",
    "np.savez(save_path, X_hfd=X_hfd)\n",
    "\n",
    "print(\"Features saved successfully.\")"
   ]
  },
  {
   "cell_type": "markdown",
   "id": "b72c8303-adfd-4814-8f37-dd75783fa6d2",
   "metadata": {
    "jp-MarkdownHeadingCollapsed": true
   },
   "source": [
    "## LZC"
   ]
  },
  {
   "cell_type": "code",
   "execution_count": 9,
   "id": "c3ca7cb0-5d45-4de6-87fe-4a02b253acdc",
   "metadata": {},
   "outputs": [
    {
     "name": "stderr",
     "output_type": "stream",
     "text": [
      "C:\\Users\\Admin\\AppData\\Local\\Temp\\ipykernel_22000\\1568084668.py:2: FutureWarning: The current default of copy=False will change to copy=True in 1.7. Set the value of copy explicitly to avoid this warning\n",
      "  X_lzc = extract_lzc_features(X.get_data())\n"
     ]
    }
   ],
   "source": [
    "# Extract LZC features\n",
    "X_lzc = extract_lzc_features(X.get_data())"
   ]
  },
  {
   "cell_type": "code",
   "execution_count": 10,
   "id": "9ec1301f-0cdf-4443-a050-3ff0be5d8b1a",
   "metadata": {},
   "outputs": [
    {
     "name": "stdout",
     "output_type": "stream",
     "text": [
      "Features saved successfully.\n"
     ]
    }
   ],
   "source": [
    "# Define the file path to save the features\n",
    "save_path = 'combined_lzc.npz'\n",
    "\n",
    "# Save the features\n",
    "np.savez(save_path, X_lzc=X_lzc)\n",
    "\n",
    "print(\"Features saved successfully.\")"
   ]
  },
  {
   "cell_type": "markdown",
   "id": "629ace17-5f3e-4557-a29d-659d71aeb722",
   "metadata": {
    "jp-MarkdownHeadingCollapsed": true
   },
   "source": [
    "## PSD"
   ]
  },
  {
   "cell_type": "code",
   "execution_count": 11,
   "id": "435a1f45-c566-462c-91c3-e1f1cc434f09",
   "metadata": {},
   "outputs": [
    {
     "name": "stderr",
     "output_type": "stream",
     "text": [
      "C:\\Users\\Admin\\AppData\\Local\\Temp\\ipykernel_22000\\3757737867.py:5: FutureWarning: The current default of copy=False will change to copy=True in 1.7. Set the value of copy explicitly to avoid this warning\n",
      "  X_psd = extract_psd_features(X.get_data(), sfreq)\n",
      "C:\\Users\\Admin\\anaconda3\\envs\\mne\\Lib\\site-packages\\scipy\\signal\\_spectral_py.py:589: UserWarning: nperseg = 256 is greater than input length  = 180, using nperseg = 180\n",
      "  freqs, _, Pxy = _spectral_helper(x, y, fs, window, nperseg, noverlap,\n"
     ]
    }
   ],
   "source": [
    "# Define the sampling frequency\n",
    "sfreq = 256\n",
    "\n",
    "# Extract spectral features\n",
    "X_psd = extract_psd_features(X.get_data(), sfreq)"
   ]
  },
  {
   "cell_type": "code",
   "execution_count": 12,
   "id": "bb7ba4b3-d2ae-42f7-a680-777fb2247ff4",
   "metadata": {},
   "outputs": [
    {
     "name": "stdout",
     "output_type": "stream",
     "text": [
      "Features saved successfully.\n"
     ]
    }
   ],
   "source": [
    "# Define the file path to save the features\n",
    "save_path = 'combined_psd.npz'\n",
    "\n",
    "# Save the features\n",
    "np.savez(save_path, X_psd=X_psd)\n",
    "\n",
    "print(\"Features saved successfully.\")"
   ]
  },
  {
   "cell_type": "markdown",
   "id": "8c38381d-6650-4189-9bcc-1023d7756254",
   "metadata": {
    "jp-MarkdownHeadingCollapsed": true
   },
   "source": [
    "## Spectral Entropy"
   ]
  },
  {
   "cell_type": "code",
   "execution_count": 13,
   "id": "02aeed63-281c-459c-8c37-ac7122d80e63",
   "metadata": {},
   "outputs": [
    {
     "name": "stderr",
     "output_type": "stream",
     "text": [
      "C:\\Users\\Admin\\AppData\\Local\\Temp\\ipykernel_22000\\1377404312.py:1: FutureWarning: The current default of copy=False will change to copy=True in 1.7. Set the value of copy explicitly to avoid this warning\n",
      "  X_entropy = extract_entropy_features(X.get_data())\n"
     ]
    }
   ],
   "source": [
    "X_entropy = extract_entropy_features(X.get_data())"
   ]
  },
  {
   "cell_type": "code",
   "execution_count": 14,
   "id": "1e40688f-222e-4fe9-9da1-a75a23d7f610",
   "metadata": {},
   "outputs": [
    {
     "name": "stdout",
     "output_type": "stream",
     "text": [
      "Features saved successfully.\n"
     ]
    }
   ],
   "source": [
    "# Define the file path to save the features\n",
    "save_path = 'combined_entropy.npz'\n",
    "\n",
    "# Save the features\n",
    "np.savez(save_path, X_entropy=X_entropy)\n",
    "\n",
    "print(\"Features saved successfully.\")"
   ]
  },
  {
   "cell_type": "markdown",
   "id": "bfc06fba-7f00-40a4-abe7-ed49770441c7",
   "metadata": {
    "jp-MarkdownHeadingCollapsed": true
   },
   "source": [
    "## Statistical"
   ]
  },
  {
   "cell_type": "markdown",
   "id": "815346e7-f70b-45ca-be6e-66172b965e5c",
   "metadata": {
    "jp-MarkdownHeadingCollapsed": true
   },
   "source": [
    "### Mean"
   ]
  },
  {
   "cell_type": "code",
   "execution_count": 15,
   "id": "f0bbd3bf-9c6d-42d2-b336-7aea1bdccaaa",
   "metadata": {},
   "outputs": [
    {
     "name": "stderr",
     "output_type": "stream",
     "text": [
      "C:\\Users\\Admin\\AppData\\Local\\Temp\\ipykernel_22000\\730594860.py:1: FutureWarning: The current default of copy=False will change to copy=True in 1.7. Set the value of copy explicitly to avoid this warning\n",
      "  X_mean = extract_mean_features(X.get_data())\n"
     ]
    }
   ],
   "source": [
    "X_mean = extract_mean_features(X.get_data())"
   ]
  },
  {
   "cell_type": "code",
   "execution_count": 16,
   "id": "073f1f8c-7bcf-4a70-bd6e-98dc39d61d3d",
   "metadata": {},
   "outputs": [
    {
     "name": "stdout",
     "output_type": "stream",
     "text": [
      "Features saved successfully.\n"
     ]
    }
   ],
   "source": [
    "# Define the file path to save the features\n",
    "save_path = 'combined_mean.npz'\n",
    "\n",
    "# Save the features\n",
    "np.savez(save_path, X_mean=X_mean)\n",
    "\n",
    "print(\"Features saved successfully.\")"
   ]
  },
  {
   "cell_type": "markdown",
   "id": "e7c2115e-10fa-44df-8072-a4e5b0a32358",
   "metadata": {
    "jp-MarkdownHeadingCollapsed": true
   },
   "source": [
    "### Variance"
   ]
  },
  {
   "cell_type": "code",
   "execution_count": 17,
   "id": "75021ea8-2256-41b8-8c21-6645f5adef80",
   "metadata": {},
   "outputs": [
    {
     "name": "stderr",
     "output_type": "stream",
     "text": [
      "C:\\Users\\Admin\\AppData\\Local\\Temp\\ipykernel_22000\\1504960069.py:1: FutureWarning: The current default of copy=False will change to copy=True in 1.7. Set the value of copy explicitly to avoid this warning\n",
      "  X_variance = extract_variance_features(X.get_data())\n"
     ]
    }
   ],
   "source": [
    "X_variance = extract_variance_features(X.get_data())"
   ]
  },
  {
   "cell_type": "code",
   "execution_count": 18,
   "id": "da5ce3c1-ef87-434a-83be-ab52a99c3c28",
   "metadata": {},
   "outputs": [
    {
     "name": "stdout",
     "output_type": "stream",
     "text": [
      "Features saved successfully.\n"
     ]
    }
   ],
   "source": [
    "# Define the file path to save the features\n",
    "save_path = 'combined_variance.npz'\n",
    "\n",
    "# Save the features\n",
    "np.savez(save_path, X_variance=X_variance)\n",
    "\n",
    "print(\"Features saved successfully.\")"
   ]
  },
  {
   "cell_type": "markdown",
   "id": "24af849d-8924-4243-93b4-e236787c87e4",
   "metadata": {
    "jp-MarkdownHeadingCollapsed": true
   },
   "source": [
    "### Skewness"
   ]
  },
  {
   "cell_type": "code",
   "execution_count": 19,
   "id": "790f7c50-1738-4787-9b09-d8ea2f4aa5d4",
   "metadata": {},
   "outputs": [
    {
     "name": "stderr",
     "output_type": "stream",
     "text": [
      "C:\\Users\\Admin\\AppData\\Local\\Temp\\ipykernel_22000\\4238270862.py:1: FutureWarning: The current default of copy=False will change to copy=True in 1.7. Set the value of copy explicitly to avoid this warning\n",
      "  X_skewness = extract_skewness_features(X.get_data())\n"
     ]
    }
   ],
   "source": [
    "X_skewness = extract_skewness_features(X.get_data())"
   ]
  },
  {
   "cell_type": "code",
   "execution_count": 20,
   "id": "9eb51d34-dbe6-4e79-b0a9-09ea839908d7",
   "metadata": {},
   "outputs": [
    {
     "name": "stdout",
     "output_type": "stream",
     "text": [
      "Features saved successfully.\n"
     ]
    }
   ],
   "source": [
    "# Define the file path to save the features\n",
    "save_path = 'combined_skewness.npz'\n",
    "\n",
    "# Save the features\n",
    "np.savez(save_path, X_skewness=X_skewness)\n",
    "\n",
    "print(\"Features saved successfully.\")"
   ]
  },
  {
   "cell_type": "markdown",
   "id": "249af165-edd9-43b5-a25c-d9cb0b2db0ed",
   "metadata": {
    "jp-MarkdownHeadingCollapsed": true
   },
   "source": [
    "## CWT Features"
   ]
  },
  {
   "cell_type": "code",
   "execution_count": null,
   "id": "8fbb6925-369a-49ab-8ae2-d8e3e0a69b98",
   "metadata": {},
   "outputs": [],
   "source": [
    "# # Extract CWT features\n",
    "# X_cwt = extract_cwt_features(X.get_data())"
   ]
  },
  {
   "cell_type": "code",
   "execution_count": null,
   "id": "3e963c77-6495-4bec-b811-7304e4cf10f1",
   "metadata": {},
   "outputs": [],
   "source": [
    "# # Define the file path to save the features\n",
    "# save_path = 'combined_cwt.npz'\n",
    "\n",
    "# # Save the features\n",
    "# np.savez(save_path, X_cwt=X_cwt)\n",
    "\n",
    "# print(\"Features saved successfully.\")"
   ]
  },
  {
   "cell_type": "markdown",
   "id": "dc013a33-cbd2-44c0-b06f-6f6cee0ee624",
   "metadata": {
    "jp-MarkdownHeadingCollapsed": true
   },
   "source": [
    "# Complete"
   ]
  }
 ],
 "metadata": {
  "kernelspec": {
   "display_name": "Python 3 (ipykernel)",
   "language": "python",
   "name": "python3"
  },
  "language_info": {
   "codemirror_mode": {
    "name": "ipython",
    "version": 3
   },
   "file_extension": ".py",
   "mimetype": "text/x-python",
   "name": "python",
   "nbconvert_exporter": "python",
   "pygments_lexer": "ipython3",
   "version": "3.9.19"
  }
 },
 "nbformat": 4,
 "nbformat_minor": 5
}
